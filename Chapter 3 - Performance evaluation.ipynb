{
 "cells": [
  {
   "cell_type": "markdown",
   "metadata": {},
   "source": [
    "## Chapter 3 - Performance evaluation\n",
    "\n",
    "Panit (Luke) Arunanondchai"
   ]
  },
  {
   "cell_type": "markdown",
   "metadata": {},
   "source": [
    "### Analyzing estimation output\n",
    "\n",
    "The video has shown the analysis of goodness of fit in case of the Microsoft returns. Let's do a similar exercise for the daily EUR/USD returns. You need to analyze the estimation output for an AR(1)-GJR GARCH model with skewed student t distribution and then decide whether we need such a flexible model with AR(1) dynamics in the mean and leverage effect in the variance."
   ]
  },
  {
   "cell_type": "code",
   "execution_count": null,
   "metadata": {},
   "outputs": [],
   "source": [
    "# install.packages(\"MASS\", repos = \"https://cran.r-project.org/\", dependencies=TRUE)"
   ]
  },
  {
   "cell_type": "code",
   "execution_count": 31,
   "metadata": {},
   "outputs": [],
   "source": [
    "library(rugarch)"
   ]
  },
  {
   "cell_type": "code",
   "execution_count": 32,
   "metadata": {},
   "outputs": [],
   "source": [
    "load(\"EURUSDret.Rdata\")"
   ]
  },
  {
   "cell_type": "code",
   "execution_count": 34,
   "metadata": {},
   "outputs": [
    {
     "data": {
      "text/html": [
       "<table>\n",
       "<thead><tr><th></th><th scope=col> Estimate</th><th scope=col> Std. Error</th><th scope=col> t value</th><th scope=col>Pr(&gt;|t|)</th></tr></thead>\n",
       "<tbody>\n",
       "\t<tr><th scope=row>mu</th><td>-0.000018 </td><td>0.000078  </td><td> -0.232981</td><td>0.815776  </td></tr>\n",
       "\t<tr><th scope=row>ar1</th><td> 0.000375 </td><td>0.013994  </td><td>  0.026815</td><td>0.978607  </td></tr>\n",
       "\t<tr><th scope=row>omega</th><td> 0.000000 </td><td>0.000000  </td><td>  0.298360</td><td>0.765428  </td></tr>\n",
       "\t<tr><th scope=row>alpha1</th><td> 0.034432 </td><td>0.003336  </td><td> 10.320639</td><td>0.000000  </td></tr>\n",
       "\t<tr><th scope=row>beta1</th><td> 0.968903 </td><td>0.001252  </td><td>773.972577</td><td>0.000000  </td></tr>\n",
       "\t<tr><th scope=row>gamma1</th><td>-0.010079 </td><td>0.005810  </td><td> -1.734675</td><td>0.082798  </td></tr>\n",
       "\t<tr><th scope=row>skew</th><td> 1.014138 </td><td>0.019566  </td><td> 51.831372</td><td>0.000000  </td></tr>\n",
       "\t<tr><th scope=row>shape</th><td> 9.039540 </td><td>1.345918  </td><td>  6.716266</td><td>0.000000  </td></tr>\n",
       "</tbody>\n",
       "</table>\n"
      ],
      "text/latex": [
       "\\begin{tabular}{r|llll}\n",
       "  &  Estimate &  Std. Error &  t value & Pr(>\\textbar{}t\\textbar{})\\\\\n",
       "\\hline\n",
       "\tmu & -0.000018  & 0.000078   &  -0.232981 & 0.815776  \\\\\n",
       "\tar1 &  0.000375  & 0.013994   &   0.026815 & 0.978607  \\\\\n",
       "\tomega &  0.000000  & 0.000000   &   0.298360 & 0.765428  \\\\\n",
       "\talpha1 &  0.034432  & 0.003336   &  10.320639 & 0.000000  \\\\\n",
       "\tbeta1 &  0.968903  & 0.001252   & 773.972577 & 0.000000  \\\\\n",
       "\tgamma1 & -0.010079  & 0.005810   &  -1.734675 & 0.082798  \\\\\n",
       "\tskew &  1.014138  & 0.019566   &  51.831372 & 0.000000  \\\\\n",
       "\tshape &  9.039540  & 1.345918   &   6.716266 & 0.000000  \\\\\n",
       "\\end{tabular}\n"
      ],
      "text/markdown": [
       "\n",
       "| <!--/--> |  Estimate |  Std. Error |  t value | Pr(>|t|) | \n",
       "|---|---|---|---|---|---|---|---|\n",
       "| mu | -0.000018  | 0.000078   |  -0.232981 | 0.815776   | \n",
       "| ar1 |  0.000375  | 0.013994   |   0.026815 | 0.978607   | \n",
       "| omega |  0.000000  | 0.000000   |   0.298360 | 0.765428   | \n",
       "| alpha1 |  0.034432  | 0.003336   |  10.320639 | 0.000000   | \n",
       "| beta1 |  0.968903  | 0.001252   | 773.972577 | 0.000000   | \n",
       "| gamma1 | -0.010079  | 0.005810   |  -1.734675 | 0.082798   | \n",
       "| skew |  1.014138  | 0.019566   |  51.831372 | 0.000000   | \n",
       "| shape |  9.039540  | 1.345918   |   6.716266 | 0.000000   | \n",
       "\n",
       "\n"
      ],
      "text/plain": [
       "        Estimate  Std. Error  t value   Pr(>|t|)\n",
       "mu     -0.000018 0.000078     -0.232981 0.815776\n",
       "ar1     0.000375 0.013994      0.026815 0.978607\n",
       "omega   0.000000 0.000000      0.298360 0.765428\n",
       "alpha1  0.034432 0.003336     10.320639 0.000000\n",
       "beta1   0.968903 0.001252    773.972577 0.000000\n",
       "gamma1 -0.010079 0.005810     -1.734675 0.082798\n",
       "skew    1.014138 0.019566     51.831372 0.000000\n",
       "shape   9.039540 1.345918      6.716266 0.000000"
      ]
     },
     "metadata": {},
     "output_type": "display_data"
    }
   ],
   "source": [
    "# Specify model with AR(1) dynamics, GJR GARCH and skewed student t\n",
    "flexgarchspec <- ugarchspec(mean.model = list(armaOrder = c(1,0)),\n",
    "                            variance.model = list(model = \"gjrGARCH\"),\n",
    "                            distribution.model = \"sstd\")\n",
    "\n",
    "# Estimate the model\n",
    "flexgarchfit <- ugarchfit(data = EURUSDret, spec = flexgarchspec)\n",
    "\n",
    "# Complete and study the statistical significance of the estimated parameters  \n",
    "round(flexgarchfit@fit$matcoef,6)"
   ]
  },
  {
   "cell_type": "markdown",
   "metadata": {},
   "source": [
    "The skewed student t skewness parameter is statistically significantly different from zero. However 0 is not an interesting value to compare with for the skewness parameter. We should compare it with 1, since the the distribution is symmetric if the skewed student t skewenss parameter equals one. Here the estimated skewness parameter is 1.013 and its standard error equals 0.0195. The estimate is thus less than two standard errors away from one and thus we can conclude that the skewness parameter is one and that the distribution is thus symmetric."
   ]
  },
  {
   "cell_type": "markdown",
   "metadata": {},
   "source": [
    "### A better model for EUR/USD returns\n",
    "\n",
    "In the previous exercise you have analyzed the statistical significance of the estimated parameters of the AR(1) GJR GARCH model with skewed student t distribution for the daily EUR/USD returns. The conclusion is that we should simplify the GARCH model used. Let's therefore take a constant mean standard GARCH model with student t distribution. We fix the mean value to zero and use variance targeting."
   ]
  },
  {
   "cell_type": "code",
   "execution_count": 35,
   "metadata": {},
   "outputs": [
    {
     "data": {},
     "metadata": {},
     "output_type": "display_data"
    },
    {
     "data": {
      "image/png": "[encoded data removed]",
      "text/plain": [
       "plot without title"
      ]
     },
     "metadata": {},
     "output_type": "display_data"
    }
   ],
   "source": [
    "# Specify model with constant mean, standard GARCH and student t\n",
    "tgarchspec <- ugarchspec(mean.model = list(armaOrder = c(1,0)),\n",
    "                         variance.model = list(model = \"gjrGARCH\", \n",
    "                         variance.targeting = TRUE),\n",
    "                         distribution.model = \"std\")\n",
    "\n",
    "# Fix the mu parameter at zero\n",
    " setfixed(tgarchspec) <- list(\"mu\" = 0)\n",
    "\n",
    "# Estimate the model\n",
    "tgarchfit <- ugarchfit(data = EURUSDret, spec = tgarchspec)\n",
    "\n",
    "# Verify that the differences in volatility are small\n",
    "plot(sigma(tgarchfit) - sigma(flexgarchfit))"
   ]
  },
  {
   "cell_type": "markdown",
   "metadata": {},
   "source": [
    "The volatilities seem similar."
   ]
  },
  {
   "cell_type": "markdown",
   "metadata": {},
   "source": [
    "By choosing the model with the highest likelihood, you will end up with the most complex model that is not parsimonious and has a high risk of overfitting."
   ]
  },
  {
   "cell_type": "markdown",
   "metadata": {},
   "source": [
    "### Mean squared prediction errors\n",
    "\n",
    "The GJR GARCH model is a generalization of the GARCH model. It should thus lead to a better fit in terms of lower Mean Squared Errors (MSE). Let's verify this on the Microsoft returns msftret for which garchfit corresponds to the estimation with the standard GARCH(1,1) model, while gjrfit is when the GJR model is used. Remember that you can compute the vector with prediction errors e for the mean using the residuals() method. The prediction error for the variance equals the difference between e2 and the predicted GARCH variance."
   ]
  },
  {
   "cell_type": "code",
   "execution_count": 42,
   "metadata": {},
   "outputs": [],
   "source": [
    "load(\"msftret.Rdata\")\n",
    "\n",
    "garchspec <- ugarchspec(mean.model = list(armaOrder = c(0,0)),\n",
    "                       variance.model = list(model = \"sGARCH\"),\n",
    "                       distribution.model = \"sstd\")\n",
    "garchfit <- ugarchfit(data=msftret, spec=garchspec)\n",
    "\n",
    "gjrspec <- ugarchspec(mean.model = list(armaOrder = c(1,0)),\n",
    "                       variance.model = list(model = \"gjrGARCH\"),\n",
    "                       distribution.model = \"sstd\")\n",
    "gjrfit <- ugarchfit(data=msftret, spec=gjrspec)"
   ]
  },
  {
   "cell_type": "code",
   "execution_count": 43,
   "metadata": {},
   "outputs": [
    {
     "data": {
      "text/html": [
       "1.58342773165743e-06"
      ],
      "text/latex": [
       "1.58342773165743e-06"
      ],
      "text/markdown": [
       "1.58342773165743e-06"
      ],
      "text/plain": [
       "[1] 1.583428e-06"
      ]
     },
     "metadata": {},
     "output_type": "display_data"
    },
    {
     "data": {
      "text/html": [
       "1.57726159262436e-06"
      ],
      "text/latex": [
       "1.57726159262436e-06"
      ],
      "text/markdown": [
       "1.57726159262436e-06"
      ],
      "text/plain": [
       "[1] 1.577262e-06"
      ]
     },
     "metadata": {},
     "output_type": "display_data"
    }
   ],
   "source": [
    "# Compute prediction errors\n",
    "garcherrors <- residuals(garchfit)\n",
    "gjrerrors  <- residuals(gjrfit)\n",
    "\n",
    "# Compute MSE for variance prediction of garchfit model\n",
    "mean((sigma(garchfit)^2 - garcherrors^2)^2)\n",
    "\n",
    "# Compute MSE for variance prediction of gjrfit model\n",
    "mean((sigma(gjrfit)^2 - gjrerrors^2)^2)"
   ]
  },
  {
   "cell_type": "markdown",
   "metadata": {},
   "source": [
    "Note that the MSE of the GJR GARCH model is slightly lower than when the standard GARCH model is used. "
   ]
  },
  {
   "cell_type": "code",
   "execution_count": 44,
   "metadata": {},
   "outputs": [
    {
     "data": {
      "text/html": [
       "6"
      ],
      "text/latex": [
       "6"
      ],
      "text/markdown": [
       "6"
      ],
      "text/plain": [
       "[1] 6"
      ]
     },
     "metadata": {},
     "output_type": "display_data"
    },
    {
     "data": {
      "text/html": [
       "8"
      ],
      "text/latex": [
       "8"
      ],
      "text/markdown": [
       "8"
      ],
      "text/plain": [
       "[1] 8"
      ]
     },
     "metadata": {},
     "output_type": "display_data"
    },
    {
     "data": {
      "text/html": [
       "13113.4879634607"
      ],
      "text/latex": [
       "13113.4879634607"
      ],
      "text/markdown": [
       "13113.4879634607"
      ],
      "text/plain": [
       "[1] 13113.49"
      ]
     },
     "metadata": {},
     "output_type": "display_data"
    },
    {
     "data": {
      "text/html": [
       "13126.9171574552"
      ],
      "text/latex": [
       "13126.9171574552"
      ],
      "text/markdown": [
       "13126.9171574552"
      ],
      "text/plain": [
       "[1] 13126.92"
      ]
     },
     "metadata": {},
     "output_type": "display_data"
    },
    {
     "data": {
      "text/html": [
       "<table>\n",
       "<thead><tr><th></th><th scope=col></th></tr></thead>\n",
       "<tbody>\n",
       "\t<tr><th scope=row>Akaike</th><td>-5.484305</td></tr>\n",
       "\t<tr><th scope=row>Bayes</th><td>-5.476180</td></tr>\n",
       "\t<tr><th scope=row>Shibata</th><td>-5.484308</td></tr>\n",
       "\t<tr><th scope=row>Hannan-Quinn</th><td>-5.481451</td></tr>\n",
       "</tbody>\n",
       "</table>\n"
      ],
      "text/latex": [
       "\\begin{tabular}{r|l}\n",
       "  & \\\\\n",
       "\\hline\n",
       "\tAkaike & -5.484305\\\\\n",
       "\tBayes & -5.476180\\\\\n",
       "\tShibata & -5.484308\\\\\n",
       "\tHannan-Quinn & -5.481451\\\\\n",
       "\\end{tabular}\n"
      ],
      "text/markdown": [
       "\n",
       "| <!--/--> |  | \n",
       "|---|---|---|---|\n",
       "| Akaike | -5.484305 | \n",
       "| Bayes | -5.476180 | \n",
       "| Shibata | -5.484308 | \n",
       "| Hannan-Quinn | -5.481451 | \n",
       "\n",
       "\n"
      ],
      "text/plain": [
       "                      \n",
       "Akaike       -5.484305\n",
       "Bayes        -5.476180\n",
       "Shibata      -5.484308\n",
       "Hannan-Quinn -5.481451"
      ]
     },
     "metadata": {},
     "output_type": "display_data"
    },
    {
     "data": {
      "text/html": [
       "<table>\n",
       "<thead><tr><th></th><th scope=col></th></tr></thead>\n",
       "<tbody>\n",
       "\t<tr><th scope=row>Akaike</th><td>-5.489087</td></tr>\n",
       "\t<tr><th scope=row>Bayes</th><td>-5.478255</td></tr>\n",
       "\t<tr><th scope=row>Shibata</th><td>-5.489092</td></tr>\n",
       "\t<tr><th scope=row>Hannan-Quinn</th><td>-5.485282</td></tr>\n",
       "</tbody>\n",
       "</table>\n"
      ],
      "text/latex": [
       "\\begin{tabular}{r|l}\n",
       "  & \\\\\n",
       "\\hline\n",
       "\tAkaike & -5.489087\\\\\n",
       "\tBayes & -5.478255\\\\\n",
       "\tShibata & -5.489092\\\\\n",
       "\tHannan-Quinn & -5.485282\\\\\n",
       "\\end{tabular}\n"
      ],
      "text/markdown": [
       "\n",
       "| <!--/--> |  | \n",
       "|---|---|---|---|\n",
       "| Akaike | -5.489087 | \n",
       "| Bayes | -5.478255 | \n",
       "| Shibata | -5.489092 | \n",
       "| Hannan-Quinn | -5.485282 | \n",
       "\n",
       "\n"
      ],
      "text/plain": [
       "                      \n",
       "Akaike       -5.489087\n",
       "Bayes        -5.478255\n",
       "Shibata      -5.489092\n",
       "Hannan-Quinn -5.485282"
      ]
     },
     "metadata": {},
     "output_type": "display_data"
    }
   ],
   "source": [
    "# Print the number of estimated parameters\n",
    "length(coef(garchfit))\n",
    "length(coef(gjrfit))\n",
    "\n",
    "# Print likelihood of the two models\n",
    "likelihood(garchfit)\n",
    "likelihood(gjrfit)\n",
    "\n",
    "# Print the information criteria of the two models\n",
    "infocriteria(garchfit)\n",
    "infocriteria(gjrfit)"
   ]
  },
  {
   "cell_type": "markdown",
   "metadata": {},
   "source": [
    "The more simple model has a lower (more negative) information criterion and is therefore best for the daily EUR/USD returns."
   ]
  },
  {
   "cell_type": "markdown",
   "metadata": {},
   "source": [
    "### Correlogram and Ljung-Box test\n",
    "\n",
    "Let's test the validity of a constant mean standard GARCH(1,1) model with student t distribution for the daily EUR/USD returns. The model is already estimated and available as tgarchfit."
   ]
  },
  {
   "cell_type": "code",
   "execution_count": 45,
   "metadata": {},
   "outputs": [
    {
     "data": {
      "text/html": [
       "0.00121956010499876"
      ],
      "text/latex": [
       "0.00121956010499876"
      ],
      "text/markdown": [
       "0.00121956010499876"
      ],
      "text/plain": [
       "[1] 0.00121956"
      ]
     },
     "metadata": {},
     "output_type": "display_data"
    },
    {
     "data": {
      "text/html": [
       "1.00507467648026"
      ],
      "text/latex": [
       "1.00507467648026"
      ],
      "text/markdown": [
       "1.00507467648026"
      ],
      "text/plain": [
       "[1] 1.005075"
      ]
     },
     "metadata": {},
     "output_type": "display_data"
    },
    {
     "data": {
      "text/plain": [
       "\n",
       "\tBox-Ljung test\n",
       "\n",
       "data:  abs(stdEURUSDret)\n",
       "X-squared = 35.92, df = 22, p-value = 0.03097\n"
      ]
     },
     "metadata": {},
     "output_type": "display_data"
    },
    {
     "data": {
      "image/png": "[encoded data removed]",
      "text/plain": [
       "Plot with title \"Series  abs(stdEURUSDret)\""
      ]
     },
     "metadata": {},
     "output_type": "display_data"
    }
   ],
   "source": [
    "# Compute the standardized returns\n",
    "stdEURUSDret <- residuals(tgarchfit, standardize = TRUE)\n",
    "\n",
    "# Compute their sample mean and standard deviation\n",
    "mean(stdEURUSDret)\n",
    "sd(stdEURUSDret)\n",
    "\n",
    "# Correlogram of the absolute (standardized) returns\n",
    "par(mfrow = c(1, 2))\n",
    "acf(abs(EURUSDret), 22)\n",
    "acf(abs(stdEURUSDret), 22)\n",
    "\n",
    "# Ljung-Box test\n",
    "Box.test(abs(stdEURUSDret), 22, type = \"Ljung-Box\")"
   ]
  },
  {
   "cell_type": "markdown",
   "metadata": {},
   "source": [
    "The Ljung-Box test concludes that at least one of the autocorrelations of order 1,…,22 is not zero. Therefore the model is not valid."
   ]
  },
  {
   "cell_type": "markdown",
   "metadata": {},
   "source": [
    "### Change estimation sample\n",
    "\n",
    "There can be several causes for rejecting the validity of the GARCH model. It could be a wrong assumption for the mean, the variance or the distribution. It could also be that the time series of returns cannot be described by one set of GARCH parameters. In fact, given the dynamic nature of financial markets, it is realistic to expect that GARCH model parameters change through time. Let's therefore re-estimate our GARCH model on the 2500 most recent EUR/USD returns instead of doing the analysis on all 4961 returns."
   ]
  },
  {
   "cell_type": "code",
   "execution_count": 46,
   "metadata": {},
   "outputs": [
    {
     "data": {
      "text/plain": [
       "\n",
       "\tBox-Ljung test\n",
       "\n",
       "data:  abs(stdEURUSDret)\n",
       "X-squared = 27.986, df = 22, p-value = 0.1761\n"
      ]
     },
     "metadata": {},
     "output_type": "display_data"
    }
   ],
   "source": [
    "# Estimate the model on the last 2500 observations\n",
    "tgarchspec <- ugarchspec( mean.model = list(armaOrder = c(0,0)),\n",
    "                        variance.model = list(model = \"sGARCH\"),\n",
    "                        distribution.model = \"std\")\n",
    "tgarchfit <- ugarchfit( data = tail(EURUSDret, 2500) , spec = tgarchspec)\n",
    "\n",
    "# Compute standardized returns\n",
    "stdEURUSDret <- residuals(tgarchfit, standardize = TRUE)\n",
    "\n",
    "# Do the Ljung-Box test on the absolute standardized returns\n",
    "Box.test(abs(stdEURUSDret), 22, type = \"Ljung-Box\")"
   ]
  },
  {
   "cell_type": "markdown",
   "metadata": {},
   "source": [
    "For the more recent data, we thus find that the GARCH model validity cannot be rejected. "
   ]
  },
  {
   "cell_type": "markdown",
   "metadata": {},
   "source": [
    "### ugarchroll arguments\n",
    "\n",
    "The ugarchroll function is instrumental for rolling volatility prediction and avoiding look-ahead bias by conditioning the estimation to using only the returns available at the past time of estimation.\n",
    "\n",
    "The ugarchroll gives the user flexibility in implementing the rolling estimation through the arguments n.start, refit.window and refit.every."
   ]
  },
  {
   "cell_type": "raw",
   "metadata": {},
   "source": [
    "garchroll <- ugarchroll(tgarchspec, data = EURUSDret, \n",
    "                        n.start = ___, refit.window = ___, refit.every = ___)"
   ]
  },
  {
   "cell_type": "markdown",
   "metadata": {},
   "source": [
    "Which values should these arguments have in case the estimation sample consists of the 2000 most recent observations and the modeler only wants to re-estimate the model every 500 observations?"
   ]
  },
  {
   "cell_type": "markdown",
   "metadata": {},
   "source": [
    "n.start = 2000, refit.window = \"moving\", refit.every = 500"
   ]
  },
  {
   "cell_type": "markdown",
   "metadata": {},
   "source": [
    "you will estimate the model using a moving window sample of the 2000 most recently observed returns at each time of estimation. You reduce the computational cost by re-estimating the model every 500 observations instead of every single observation."
   ]
  },
  {
   "cell_type": "markdown",
   "metadata": {},
   "source": [
    "### In-sample versus rolling sample vol\n",
    "\n",
    "For a given time series of returns, you can estimate the GARCH volatility using the method sigma() applied to the output from ugarchfit or by using the as.data.frame() method to the output from ugarchroll. The difference is that ugarchfit leads to an in-sample estimate of volatility obtained by estimating the GARCH model only once and using the complete time series, while ugarchroll re-estimates the model and uses only the returns that are actually observable at the time of estimation. In this exercise you need to compare the resulting volatility predictions for the daily S&P 500 returns using an AR(1) GJR GARCH model with skewed student t distribution. The GARCH specification to use is already specified and available as garchspec, while the data are in sp500ret."
   ]
  },
  {
   "cell_type": "code",
   "execution_count": 59,
   "metadata": {},
   "outputs": [],
   "source": [
    "load(\"sp500prices.Rdata\")\n",
    "# install.packages(\"PerformanceAnalytics\", repos=\"https://cran.r-project.org/\", dependencies=TRUE)\n",
    "library(PerformanceAnalytics)"
   ]
  },
  {
   "cell_type": "code",
   "execution_count": 63,
   "metadata": {},
   "outputs": [],
   "source": [
    "sp500ret = Return.calculate(xts(sp500prices),method=\"discrete\")\n",
    "sp500ret = tail(sp500ret, 4501)\n",
    "garchspec <- ugarchspec(mean.model = list(armaOrder = c(1,0)),\n",
    "                       variance.model = list(model = \"gjrGARCH\"),\n",
    "                       distribution.model = \"sstd\")"
   ]
  },
  {
   "cell_type": "code",
   "execution_count": 68,
   "metadata": {},
   "outputs": [
    {
     "data": {
      "image/png": "[encoded data removed]",
      "text/plain": [
       "plot without title"
      ]
     },
     "metadata": {},
     "output_type": "display_data"
    }
   ],
   "source": [
    "# Estimate the GARCH model using all the returns and compute the in-sample estimates of volatility\n",
    "garchinsample <- ugarchfit(data = sp500ret, spec = garchspec)\n",
    "garchvolinsample <- sigma(garchinsample)\n",
    "\n",
    "# Use ugarchroll for rolling estimation of the GARCH model \n",
    "garchroll <- ugarchroll(garchspec, data = sp500ret , \n",
    "        n.start = 2000, refit.window = \"moving\",  refit.every = 2500)\n",
    "\n",
    "# Set preds to the data frame with rolling predictions\n",
    "preds <- as.data.frame(garchroll)\n",
    "\n",
    "# Compare in-sample and rolling sample volatility in one plot\n",
    "garchvolroll <- xts( preds$Sigma, order.by = as.Date(rownames(preds)))\n",
    "volplot <- plot(garchvolinsample, col = \"darkgrey\", lwd = 1.5, main = \"In-sample versus rolling vol forecasts\")\n",
    "volplot <- addSeries(garchvolroll, col = \"blue\", on = 1)\n",
    "plot(volplot)"
   ]
  },
  {
   "cell_type": "markdown",
   "metadata": {},
   "source": [
    "### Horse race\n",
    "\n",
    "You are now asked to run a horse race in terms of forecasting accuracy between the two approaches for making rolling GARCH model predictions:\n",
    "\n",
    "garchroll: AR(1) standard GARCH model and student t distribution\n",
    "gjrgarchroll: AR(1) GJR GARCH model and skewed student t distribution.\n",
    "The rolling estimations are implemented using"
   ]
  },
  {
   "cell_type": "raw",
   "metadata": {},
   "source": [
    "n.start = 2500, refit.window = \"moving\", refit.every = 500"
   ]
  },
  {
   "cell_type": "code",
   "execution_count": 73,
   "metadata": {},
   "outputs": [],
   "source": [
    "garchspec <- ugarchspec(mean.model = list(armaOrder = c(1,0)),\n",
    "                       variance.model = list(model = \"sGARCH\"),\n",
    "                       distribution.model = \"std\")\n",
    "garchroll <- ugarchroll(garchspec, data = sp500ret , \n",
    "        n.start = 2500, refit.window = \"moving\",  refit.every = 500)\n",
    "\n",
    "gjrgarchspec <- ugarchspec(mean.model = list(armaOrder = c(1,0)),\n",
    "                       variance.model = list(model = \"gjrGARCH\"),\n",
    "                       distribution.model = \"sstd\")\n",
    "gjrgarchroll <- ugarchroll(gjrgarchspec, data = sp500ret , \n",
    "        n.start = 2500, refit.window = \"moving\",  refit.every = 500)"
   ]
  },
  {
   "cell_type": "code",
   "execution_count": 72,
   "metadata": {},
   "outputs": [
    {
     "data": {
      "text/html": [
       "<table>\n",
       "<thead><tr><th></th><th scope=col>Mu</th><th scope=col>Sigma</th><th scope=col>Skew</th><th scope=col>Shape</th><th scope=col>Shape(GIG)</th><th scope=col>Realized</th></tr></thead>\n",
       "<tbody>\n",
       "\t<tr><th scope=row>2010-01-21</th><td>0.001197429 </td><td>0.008286178 </td><td>0           </td><td>9.847798    </td><td>0           </td><td>-0.018944904</td></tr>\n",
       "\t<tr><th scope=row>2010-01-22</th><td>0.001769581 </td><td>0.009693708 </td><td>0           </td><td>9.847798    </td><td>0           </td><td>-0.022140988</td></tr>\n",
       "\t<tr><th scope=row>2010-01-25</th><td>0.001988657 </td><td>0.011382416 </td><td>0           </td><td>9.847798    </td><td>0           </td><td> 0.004598098</td></tr>\n",
       "</tbody>\n",
       "</table>\n"
      ],
      "text/latex": [
       "\\begin{tabular}{r|llllll}\n",
       "  & Mu & Sigma & Skew & Shape & Shape(GIG) & Realized\\\\\n",
       "\\hline\n",
       "\t2010-01-21 & 0.001197429  & 0.008286178  & 0            & 9.847798     & 0            & -0.018944904\\\\\n",
       "\t2010-01-22 & 0.001769581  & 0.009693708  & 0            & 9.847798     & 0            & -0.022140988\\\\\n",
       "\t2010-01-25 & 0.001988657  & 0.011382416  & 0            & 9.847798     & 0            &  0.004598098\\\\\n",
       "\\end{tabular}\n"
      ],
      "text/markdown": [
       "\n",
       "| <!--/--> | Mu | Sigma | Skew | Shape | Shape(GIG) | Realized | \n",
       "|---|---|---|\n",
       "| 2010-01-21 | 0.001197429  | 0.008286178  | 0            | 9.847798     | 0            | -0.018944904 | \n",
       "| 2010-01-22 | 0.001769581  | 0.009693708  | 0            | 9.847798     | 0            | -0.022140988 | \n",
       "| 2010-01-25 | 0.001988657  | 0.011382416  | 0            | 9.847798     | 0            |  0.004598098 | \n",
       "\n",
       "\n"
      ],
      "text/plain": [
       "           Mu          Sigma       Skew Shape    Shape(GIG) Realized    \n",
       "2010-01-21 0.001197429 0.008286178 0    9.847798 0          -0.018944904\n",
       "2010-01-22 0.001769581 0.009693708 0    9.847798 0          -0.022140988\n",
       "2010-01-25 0.001988657 0.011382416 0    9.847798 0           0.004598098"
      ]
     },
     "metadata": {},
     "output_type": "display_data"
    }
   ],
   "source": [
    "# Inspect the first three rows of the dataframe with out of sample predictions\n",
    "garchpreds <- as.data.frame(garchroll)\n",
    "head(garchpreds, 3)\n",
    "\n",
    "# Compute prediction errors\n",
    "e  <- garchpreds$Realized - garchpreds$Mu  \n",
    "d  <- e^2 - garchpreds$Sigma^2 \n",
    "\n",
    "# Compute MSE for the garchroll variance prediction\n",
    "garchMSE <- mean(d^2)\n",
    "\n",
    "# Compute MSE for gjrgarchroll\n",
    "gjrgarchpreds <- as.data.frame(gjrgarchroll)\n",
    "e  <- gjrgarchpreds$Realized - gjrgarchpreds$Mu\n",
    "d  <- e^2 - gjrgarchpreds$Sigma^2\n",
    "gjrgarchMSE <- mean(d^2)"
   ]
  },
  {
   "cell_type": "raw",
   "metadata": {},
   "source": [
    "Computing the percentage change in MSE yields:\n",
    "\n",
    "> (gjrgarchMSE - garchMSE) / garchMSE\n",
    "[1] -0.05808385"
   ]
  },
  {
   "cell_type": "markdown",
   "metadata": {},
   "source": [
    "Which interpretation is wrong?\n",
    "\n",
    "This is wrong => For this application, the added flexibility of including a leverage effect and skewness in gjrgarchroll pays off in terms of forecasting accuracy compared to garchroll: the MSE computed on the out-of-sample predictions is 5.8% lower than the MSE of the standard GARCH model."
   ]
  },
  {
   "cell_type": "markdown",
   "metadata": {},
   "source": [
    "When doing rolling sample GARCH model predictions, the comparison is fair. You only use the returns available at the time of prediction. As such you are not exposed to look-ahead bias nor to overfitting, since the data used for the prediction is different from the actual return used to evaluate this prediction. The best predicting model wins. Depending on the application, the winner can be a simple model or a complex model."
   ]
  }
 ],
 "metadata": {
  "kernelspec": {
   "display_name": "R",
   "language": "R",
   "name": "ir"
  },
  "language_info": {
   "codemirror_mode": "r",
   "file_extension": ".r",
   "mimetype": "text/x-r-source",
   "name": "R",
   "pygments_lexer": "r",
   "version": "3.5.1"
  }
 },
 "nbformat": 4,
 "nbformat_minor": 2
}
