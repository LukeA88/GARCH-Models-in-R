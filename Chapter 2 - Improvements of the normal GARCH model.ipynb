{
 "cells": [
  {
   "cell_type": "markdown",
   "metadata": {},
   "source": [
    "## Chapter 2 - Improvements of the normal GARCH model\n",
    "Panit (Luke) Arunanondchai"
   ]
  },
  {
   "cell_type": "markdown",
   "metadata": {},
   "source": [
    "### Estimation of non-normal GARCH model\n",
    "\n",
    "The function **ugarchfit()** does a joint estimation of all the mean, variance and distribution parameters. A general approach is to use a skewed student t distribution. You then need to estimate also the skew and shape parameters ξ and ν.\n",
    "\n",
    "In this exercise, you fit the GARCH model with skewed student t distribution on a simulated return series called ret. The true model used to simulate has the following parameters "
   ]
  },
  {
   "cell_type": "code",
   "execution_count": null,
   "metadata": {
    "collapsed": true
   },
   "outputs": [],
   "source": [
    "list(mu = 0, ar1 = 0, ma1 = 0, omega = 6*10^(-7), alpha1 = 0.07, beta1 = 0.9, skew = 0.9, shape = 5)"
   ]
  },
  {
   "cell_type": "markdown",
   "metadata": {},
   "source": [
    "You will see that you obtain parameter estimates are close to the true parameters. The difference between the estimated and true parameter is called the estimation error. On long time series, the error is typically small."
   ]
  },
  {
   "cell_type": "code",
   "execution_count": 5,
   "metadata": {
    "collapsed": false
   },
   "outputs": [
    {
     "name": "stderr",
     "output_type": "stream",
     "text": [
      "Warning message:\n",
      "\"package 'rugarch' was built under R version 3.5.2\"Loading required package: parallel\n",
      "\n",
      "Attaching package: 'rugarch'\n",
      "\n",
      "The following object is masked from 'package:stats':\n",
      "\n",
      "    sigma\n",
      "\n"
     ]
    },
    {
     "data": {
      "text/plain": [
       "                    [,1]\n",
       "2008-06-20  0.0015954723\n",
       "2008-06-23 -0.0074769985\n",
       "2008-06-24  0.0003698231\n",
       "2008-06-25 -0.0027400560\n",
       "2008-06-26  0.0051705707\n",
       "2008-06-27 -0.0034540448"
      ]
     },
     "metadata": {},
     "output_type": "display_data"
    }
   ],
   "source": [
    "library(rugarch)\n",
    "load(\"ret.Rdata\")\n",
    "head(ret)"
   ]
  },
  {
   "cell_type": "code",
   "execution_count": 8,
   "metadata": {
    "collapsed": false
   },
   "outputs": [
    {
     "name": "stdout",
     "output_type": "stream",
     "text": [
      "An 'xts' object on 2008-06-20/2017-12-29 containing:\n",
      "  Data: num [1:2400, 1] 0.0016 -0.00748 0.00037 -0.00274 0.00517 ...\n",
      " - attr(*, \"dimnames\")=List of 2\n",
      "  ..$ : NULL\n",
      "  ..$ : NULL\n",
      "  Indexed by objects of class: [Date] TZ: UTC\n",
      "  xts Attributes:  \n",
      " NULL\n"
     ]
    }
   ],
   "source": [
    "str(ret)"
   ]
  },
  {
   "cell_type": "code",
   "execution_count": 9,
   "metadata": {
    "collapsed": false,
    "scrolled": true
   },
   "outputs": [
    {
     "data": {
      "image/png": "[encoded data removed]",
      "text/plain": [
       "plot without title"
      ]
     },
     "metadata": {},
     "output_type": "display_data"
    }
   ],
   "source": [
    "# Plot the return series\n",
    "plot(ret)\n",
    "\n",
    "# Specify the garch model to be used\n",
    "garchspec <- ugarchspec(mean.model = list(armaOrder = c(0,0)),\n",
    "                       variance.model = list(model = \"sGARCH\"),\n",
    "                        distribution.model = \"sstd\")\n",
    "\n",
    "# Estimate the model\n",
    "garchfit <- ugarchfit(data = ret, spec = garchspec)\n"
   ]
  },
  {
   "cell_type": "code",
   "execution_count": 10,
   "metadata": {
    "collapsed": false
   },
   "outputs": [
    {
     "data": {
      "text/html": [
       "<dl class=dl-horizontal>\n",
       "\t<dt>mu</dt>\n",
       "\t\t<dd>1.41379541383425e-05</dd>\n",
       "\t<dt>omega</dt>\n",
       "\t\t<dd>5.96648074315166e-07</dd>\n",
       "\t<dt>alpha1</dt>\n",
       "\t\t<dd>0.0665686813199969</dd>\n",
       "\t<dt>beta1</dt>\n",
       "\t\t<dd>0.895645188363375</dd>\n",
       "\t<dt>skew</dt>\n",
       "\t\t<dd>0.902666028849407</dd>\n",
       "\t<dt>shape</dt>\n",
       "\t\t<dd>5.01482813238542</dd>\n",
       "</dl>\n"
      ],
      "text/latex": [
       "\\begin{description*}\n",
       "\\item[mu] 1.41379541383425e-05\n",
       "\\item[omega] 5.96648074315166e-07\n",
       "\\item[alpha1] 0.0665686813199969\n",
       "\\item[beta1] 0.895645188363375\n",
       "\\item[skew] 0.902666028849407\n",
       "\\item[shape] 5.01482813238542\n",
       "\\end{description*}\n"
      ],
      "text/markdown": [
       "mu\n",
       ":   1.41379541383425e-05omega\n",
       ":   5.96648074315166e-07alpha1\n",
       ":   0.0665686813199969beta1\n",
       ":   0.895645188363375skew\n",
       ":   0.902666028849407shape\n",
       ":   5.01482813238542\n",
       "\n"
      ],
      "text/plain": [
       "          mu        omega       alpha1        beta1         skew        shape \n",
       "1.413795e-05 5.966481e-07 6.656868e-02 8.956452e-01 9.026660e-01 5.014828e+00 "
      ]
     },
     "metadata": {},
     "output_type": "display_data"
    }
   ],
   "source": [
    "# Inspect the coefficients\n",
    "coef(garchfit)"
   ]
  },
  {
   "cell_type": "code",
   "execution_count": null,
   "metadata": {
    "collapsed": true
   },
   "outputs": [],
   "source": [
    "list(mu = 0, ar1 = 0, ma1 = 0, omega = 6*10^(-7), alpha1 = 0.07, beta1 = 0.9, skew = 0.9, shape = 5)"
   ]
  },
  {
   "cell_type": "markdown",
   "metadata": {},
   "source": [
    "See how powerful this estimation method is? All estimated parameters are close to their true values!"
   ]
  },
  {
   "cell_type": "markdown",
   "metadata": {},
   "source": [
    "## Standardized returns\n",
    "\n",
    "A complete GARCH model requires to make an assumption about the distribution of the standardized returns. Once the model has been estimated you can verify the assumption by analyzing the standardized returns.\n",
    "\n",
    "In this exercise your work begins after the estimation. The output from estimating the GARCH model using ugarchfit() is available as the variable garchfit in the console. The analyzed return series is available as the variable ret."
   ]
  },
  {
   "cell_type": "code",
   "execution_count": 13,
   "metadata": {
    "collapsed": false
   },
   "outputs": [
    {
     "data": {
      "text/plain": [
       "                  [,1]\n",
       "2008-06-20  0.39375101\n",
       "2008-06-23 -1.92087630\n",
       "2008-06-24  0.08394304\n",
       "2008-06-25 -0.67425589\n",
       "2008-06-26  1.28726273\n",
       "2008-06-27 -0.84771385"
      ]
     },
     "metadata": {},
     "output_type": "display_data"
    }
   ],
   "source": [
    "# Compute the standardized returns\n",
    "stdret <- residuals(garchfit, standardize= TRUE)\n",
    "head(stdret)"
   ]
  },
  {
   "cell_type": "code",
   "execution_count": 14,
   "metadata": {
    "collapsed": false
   },
   "outputs": [
    {
     "data": {
      "text/plain": [
       "                  [,1]\n",
       "2008-06-20  0.39375101\n",
       "2008-06-23 -1.92087630\n",
       "2008-06-24  0.08394304\n",
       "2008-06-25 -0.67425589\n",
       "2008-06-26  1.28726273\n",
       "2008-06-27 -0.84771385"
      ]
     },
     "metadata": {},
     "output_type": "display_data"
    }
   ],
   "source": [
    "# Compute the standardized returns using fitted() and sigma()\n",
    "stdret <- (ret - fitted(garchfit)) / sigma(garchfit)\n",
    "head(stdret)"
   ]
  },
  {
   "cell_type": "code",
   "execution_count": 19,
   "metadata": {
    "collapsed": false,
    "scrolled": true
   },
   "outputs": [
    {
     "data": {
      "image/png": "[encoded data removed]",
      "text/plain": [
       "plot without title"
      ]
     },
     "metadata": {},
     "output_type": "display_data"
    }
   ],
   "source": [
    "# Load the package PerformanceAnalytics and make the histogram\n",
    "library(PerformanceAnalytics)\n",
    "chart.Histogram(stdret, methods = c(\"add.normal\",\"add.density\" ), colorset = c(\"gray\",\"red\",\"blue\"))\n"
   ]
  },
  {
   "cell_type": "markdown",
   "metadata": {},
   "source": [
    "Note that the distribution of the standardized returns is not normal. There is asymmetry and fat tails. Setting distribution.model = \"sstd\" instead of distribution.model = \"norm\" leads to a more realistic GARCH model. You can also question the suitability of setting variance.model=list(model=\"sGARCH\"). We now move on to using other GARCH models than the sGARCH model."
   ]
  },
  {
   "cell_type": "markdown",
   "metadata": {},
   "source": [
    "### News impact curve\n",
    "\n",
    "Negative news about returns affect the variance more than positive news. The GJR GARCH model allows for asymmetric response of variance to positive and negative news. The news impact curve is a helpful tool to visualize the response of the variance to the surprise in returns.\n",
    "\n",
    "The presence of a leverage effect matters for the choice of variance model. It does not matter for the distribution model, which can as well be normal or student t."
   ]
  },
  {
   "cell_type": "markdown",
   "metadata": {},
   "source": [
    "### Estimation of GJR garch model\n",
    "\n",
    "Just like any GARCH model, the GJR GARCH model is used to predict volatility. We use this model now to predict the volatility of the daily returns of Microsoft over the period 1999 till 2017.\n",
    "\n",
    "These returns are available in the console as the variable msftret. We have already computed the standard GARCH volatility predictions for you. They are available in the object sgarchvol."
   ]
  },
  {
   "cell_type": "code",
   "execution_count": 20,
   "metadata": {
    "collapsed": true
   },
   "outputs": [],
   "source": [
    "load(\"msftret.Rdata\")"
   ]
  },
  {
   "cell_type": "code",
   "execution_count": 23,
   "metadata": {
    "collapsed": true
   },
   "outputs": [],
   "source": [
    "# Specify the standard GARCH model\n",
    "sgarchspec <- ugarchspec(mean.model = list(armaOrder = c(0,0)),\n",
    "                 variance.model = list(model = \"sGARCH\"),\n",
    "                 distribution.model = \"sstd\")\n",
    "\n",
    "# Estimate the model and compute volatility\n",
    "sgarchfit <- ugarchfit(data = msftret, spec = sgarchspec)\n",
    "sgarchvol <- sigma(sgarchfit)\n"
   ]
  },
  {
   "cell_type": "code",
   "execution_count": 24,
   "metadata": {
    "collapsed": false
   },
   "outputs": [
    {
     "data": {
      "image/png": "[encoded data removed]",
      "text/plain": [
       "plot without title"
      ]
     },
     "metadata": {},
     "output_type": "display_data"
    }
   ],
   "source": [
    "# Specify the GJR GARCH model\n",
    "garchspec <- ugarchspec(mean.model = list(armaOrder = c(0,0)),\n",
    "                 variance.model = list(model = \"gjrGARCH\"),\n",
    "                 distribution.model = \"sstd\")\n",
    "\n",
    "# Estimate the model and compute volatility\n",
    "gjrgarchfit <- ugarchfit(data = msftret, spec = garchspec)\n",
    "gjrgarchvol <- sigma(gjrgarchfit)\n",
    "\n",
    "# Compare volatility\n",
    "plotvol <- plot(abs(msftret), col = \"grey\")\n",
    "plotvol <- addSeries(gjrgarchvol, col = \"red\", on=1)\n",
    "plotvol <- addSeries(sgarchvol, col = \"blue\", on=1)\n",
    "plotvol"
   ]
  },
  {
   "cell_type": "markdown",
   "metadata": {},
   "source": [
    "In the time series plot you can recognize the internet bubble and financial crisis."
   ]
  },
  {
   "cell_type": "markdown",
   "metadata": {},
   "source": [
    "### The AR(1)-GJR GARCH dynamics of MSFT returns\n",
    "\n",
    "You have seen in the video that the sign of the autoregressive parameter in the AR(1) model depends on the market reaction to news\n",
    "\n",
    "$$\\mu_t = \\mu+\\rho(R_{t-1}-\\mu)$$\n",
    "\n",
    "A positive value of ρ is consistent with the interpretation that markets under-react to news leading to a momentum in returns. A negative value of ρ is consistent with the interpretation that markets over-react to news leading to a reversion in returns.\n",
    "\n",
    "Are the daily Microsoft returns characterized by a momentum or a reversal effect in their AR(1) dynamics? Let's find this out by estimating the parameters of the AR(1)-GJR GARCH model using the daily Microsoft returns in msftret."
   ]
  },
  {
   "cell_type": "code",
   "execution_count": 25,
   "metadata": {
    "collapsed": false
   },
   "outputs": [
    {
     "data": {
      "text/html": [
       "<dl class=dl-horizontal>\n",
       "\t<dt>mu</dt>\n",
       "\t\t<dd>0.000610055376891335</dd>\n",
       "\t<dt>ar1</dt>\n",
       "\t\t<dd>-0.0377992432522287</dd>\n",
       "</dl>\n"
      ],
      "text/latex": [
       "\\begin{description*}\n",
       "\\item[mu] 0.000610055376891335\n",
       "\\item[ar1] -0.0377992432522287\n",
       "\\end{description*}\n"
      ],
      "text/markdown": [
       "mu\n",
       ":   0.000610055376891335ar1\n",
       ":   -0.0377992432522287\n",
       "\n"
      ],
      "text/plain": [
       "           mu           ar1 \n",
       " 0.0006100554 -0.0377992433 "
      ]
     },
     "metadata": {},
     "output_type": "display_data"
    }
   ],
   "source": [
    "# Specify AR(1)-GJR GARCH model\n",
    "garchspec <- ugarchspec(mean.model = list(armaOrder = c(1,0) ),\n",
    "                        variance.model = list(model = \"gjrGARCH\"),\n",
    "                        distribution.model = \"sstd\")\n",
    "\n",
    "# Estimate the model\n",
    "garchfit <- ugarchfit(data= msftret,spec=garchspec)\n",
    "\n",
    "# Print the first two coefficients\n",
    "coef(garchfit)[c(1:2)]"
   ]
  },
  {
   "cell_type": "markdown",
   "metadata": {},
   "source": [
    "Since the AR(1) coefficient in the mean model is negative, we thus find a reversal effect in terms of predicted return. After an above average return, we expect a below average return. Following a below average return, we expect an above average return."
   ]
  },
  {
   "cell_type": "code",
   "execution_count": 27,
   "metadata": {
    "collapsed": false
   },
   "outputs": [],
   "source": [
    "constmean_vol = sigma(sgarchfit)\n",
    "ar1_mean = fitted(garchfit)\n",
    "ar1_vol = sigma(garchfit)"
   ]
  },
  {
   "cell_type": "markdown",
   "metadata": {},
   "source": [
    "### Effect of mean model on volatility predictions\n",
    "\n",
    "Modelling the mean dynamics typically has a major effect on the obtained predicted returns, but only a minor effect on the volatility predictions. The effect on volatility predictions is so small that, if the interest is only in the volatility dynamics, usually one can ignore the mean dynamics and just assume the most simple specification, namely the constant mean model.\n",
    "\n",
    "Let's test this for the daily returns of Microsoft. The predicted mean and volatility of the GARCH estimation under the assumption of constant mean and AR(1) are already available in the console as the variables constmean_mean, ar1_mean, constmean_vol and ar1_vol."
   ]
  },
  {
   "cell_type": "code",
   "execution_count": 28,
   "metadata": {
    "collapsed": false
   },
   "outputs": [
    {
     "data": {
      "text/html": [
       "<table>\n",
       "<tbody>\n",
       "\t<tr><td>0.05664686</td></tr>\n",
       "</tbody>\n",
       "</table>\n"
      ],
      "text/latex": [
       "\\begin{tabular}{l}\n",
       "\t 0.05664686\\\\\n",
       "\\end{tabular}\n"
      ],
      "text/markdown": [
       "\n",
       "| 0.05664686 |\n",
       "\n"
      ],
      "text/plain": [
       "     [,1]      \n",
       "[1,] 0.05664686"
      ]
     },
     "metadata": {},
     "output_type": "display_data"
    },
    {
     "data": {
      "text/html": [
       "<table>\n",
       "<thead><tr><th></th><th scope=col>constmean_vol</th><th scope=col>ar1_vol</th><th scope=col>gim_vol</th></tr></thead>\n",
       "<tbody>\n",
       "\t<tr><th scope=row>constmean_vol</th><td>1.0000000</td><td>0.9823409</td><td>0.9824070</td></tr>\n",
       "\t<tr><th scope=row>ar1_vol</th><td>0.9823409</td><td>1.0000000</td><td>0.9998885</td></tr>\n",
       "\t<tr><th scope=row>gim_vol</th><td>0.9824070</td><td>0.9998885</td><td>1.0000000</td></tr>\n",
       "</tbody>\n",
       "</table>\n"
      ],
      "text/latex": [
       "\\begin{tabular}{r|lll}\n",
       "  & constmean\\_vol & ar1\\_vol & gim\\_vol\\\\\n",
       "\\hline\n",
       "\tconstmean\\_vol & 1.0000000 & 0.9823409 & 0.9824070\\\\\n",
       "\tar1\\_vol & 0.9823409 & 1.0000000 & 0.9998885\\\\\n",
       "\tgim\\_vol & 0.9824070 & 0.9998885 & 1.0000000\\\\\n",
       "\\end{tabular}\n"
      ],
      "text/markdown": [
       "\n",
       "| <!--/--> | constmean_vol | ar1_vol | gim_vol |\n",
       "|---|---|---|---|\n",
       "| constmean_vol | 1.0000000 | 0.9823409 | 0.9824070 |\n",
       "| ar1_vol | 0.9823409 | 1.0000000 | 0.9998885 |\n",
       "| gim_vol | 0.9824070 | 0.9998885 | 1.0000000 |\n",
       "\n"
      ],
      "text/plain": [
       "              constmean_vol ar1_vol   gim_vol  \n",
       "constmean_vol 1.0000000     0.9823409 0.9824070\n",
       "ar1_vol       0.9823409     1.0000000 0.9998885\n",
       "gim_vol       0.9824070     0.9998885 1.0000000"
      ]
     },
     "metadata": {},
     "output_type": "display_data"
    }
   ],
   "source": [
    "# GARCH-in-Mean specification and estimation\n",
    "gim_garchspec <- ugarchspec( \n",
    "  mean.model = list(armaOrder = c(0,0), archm = TRUE, archpow = 2),\n",
    "  variance.model = list(model = \"gjrGARCH\"), distribution.model = \"sstd\")\n",
    "gim_garchfit <- ugarchfit(data = msftret , spec = gim_garchspec)\n",
    "\n",
    "# Predicted mean returns and volatility of GARCH-in-mean\n",
    "gim_mean <- fitted(gim_garchfit)\n",
    "gim_vol <- sigma(gim_garchfit)\n",
    "\n",
    "# Correlation between predicted return using AR(1) and GARCH-in-mean models\n",
    "cor(ar1_mean, gim_mean)\n",
    "\n",
    "# Correlation between predicted volatilities across mean.models\n",
    "cor(merge(constmean_vol, ar1_vol, gim_vol))"
   ]
  },
  {
   "cell_type": "markdown",
   "metadata": {},
   "source": [
    "Note that there is a large disagreement between the predicted returns obtained using the AR(1) and GARCH-in-mean models, as shown by the low correlation. Because the mean return is close to zero for daily returns, these differences in mean prediction have little impact on the volatility predictions. Their correlation is is almost one. For simplicity, we consider henceforth only GARCH models with constant mean, unless the goal is to obtain time-varying mean predictions."
   ]
  },
  {
   "cell_type": "code",
   "execution_count": 30,
   "metadata": {
    "collapsed": false
   },
   "outputs": [
    {
     "data": {
      "text/plain": [
       "                    [,1]\n",
       "1999-01-04  6.100554e-04\n",
       "1999-01-05  2.847708e-06\n",
       "1999-01-06 -8.413254e-04\n",
       "1999-01-07 -5.924313e-04\n",
       "1999-01-08  8.205314e-04\n",
       "1999-01-11  7.900751e-04"
      ]
     },
     "metadata": {},
     "output_type": "display_data"
    },
    {
     "data": {
      "text/plain": [
       "                   [,1]\n",
       "2017-12-21 0.0007696432\n",
       "2017-12-22 0.0006419515\n",
       "2017-12-26 0.0006286942\n",
       "2017-12-27 0.0006817407\n",
       "2017-12-28 0.0004959025\n",
       "2017-12-29 0.0006287050"
      ]
     },
     "metadata": {},
     "output_type": "display_data"
    }
   ],
   "source": [
    "head(fitted(garchfit))\n",
    "tail(fitted(garchfit))"
   ]
  },
  {
   "cell_type": "code",
   "execution_count": 32,
   "metadata": {
    "collapsed": false
   },
   "outputs": [
    {
     "data": {
      "text/plain": [
       "                   MSFT\n",
       "1999-01-04  0.016674072\n",
       "1999-01-05  0.039007141\n",
       "1999-01-06  0.032422510\n",
       "1999-01-07 -0.004958204\n",
       "1999-01-08 -0.004152468\n",
       "1999-01-11 -0.015847238"
      ]
     },
     "metadata": {},
     "output_type": "display_data"
    },
    {
     "data": {
      "text/plain": [
       "                    MSFT\n",
       "2017-12-21 -0.0002337735\n",
       "2017-12-22  0.0001169555\n",
       "2017-12-26 -0.0012864196\n",
       "2017-12-27  0.0036300331\n",
       "2017-12-28  0.0001166690\n",
       "2017-12-29 -0.0020998910"
      ]
     },
     "metadata": {},
     "output_type": "display_data"
    }
   ],
   "source": [
    "head(msftret)\n",
    "tail(msftret)"
   ]
  },
  {
   "cell_type": "markdown",
   "metadata": {},
   "source": [
    "### Fixing GARCH parameters\n",
    "\n",
    "The parameters of a GARCH model are estimated by maximum likelihood. Because of sampling uncertainty, the estimated parameters have for sure some estimation error. If we know the true parameter value, it is therefore best to impose that value and not to estimate it.\n",
    "\n",
    "Let's do this in case of the daily EUR/USD returns available in the console as the variable EURUSDret and for which an AR(1)-GARCH model with skewed student t distribution has already been estimated, and made available as the ugarchfit object called flexgarchfit."
   ]
  },
  {
   "cell_type": "code",
   "execution_count": 36,
   "metadata": {
    "collapsed": true
   },
   "outputs": [],
   "source": [
    "load(\"EURUSDret.Rdata\")\n",
    "\n",
    "flexgarchspec = ugarchspec( mean.model = list(armaOrder = c(1,0)),\n",
    "                        variance.model = list(model = \"sGARCH\"), \n",
    "                        distribution.model = \"sstd\")\n",
    "flexgarchfit = ugarchfit(data = EURUSDret, spec = flexgarchspec)"
   ]
  },
  {
   "cell_type": "code",
   "execution_count": 37,
   "metadata": {
    "collapsed": false
   },
   "outputs": [
    {
     "data": {
      "text/html": [
       "<dl class=dl-horizontal>\n",
       "\t<dt>mu</dt>\n",
       "\t\t<dd>-2.45495729382197e-05</dd>\n",
       "\t<dt>ar1</dt>\n",
       "\t\t<dd>0.000122947775066011</dd>\n",
       "\t<dt>omega</dt>\n",
       "\t\t<dd>9.57514050839214e-08</dd>\n",
       "\t<dt>alpha1</dt>\n",
       "\t\t<dd>0.0305337473746062</dd>\n",
       "\t<dt>beta1</dt>\n",
       "\t\t<dd>0.967156246632972</dd>\n",
       "\t<dt>skew</dt>\n",
       "\t\t<dd>1.01434053541708</dd>\n",
       "\t<dt>shape</dt>\n",
       "\t\t<dd>8.9091738188611</dd>\n",
       "</dl>\n"
      ],
      "text/latex": [
       "\\begin{description*}\n",
       "\\item[mu] -2.45495729382197e-05\n",
       "\\item[ar1] 0.000122947775066011\n",
       "\\item[omega] 9.57514050839214e-08\n",
       "\\item[alpha1] 0.0305337473746062\n",
       "\\item[beta1] 0.967156246632972\n",
       "\\item[skew] 1.01434053541708\n",
       "\\item[shape] 8.9091738188611\n",
       "\\end{description*}\n"
      ],
      "text/markdown": [
       "mu\n",
       ":   -2.45495729382197e-05ar1\n",
       ":   0.000122947775066011omega\n",
       ":   9.57514050839214e-08alpha1\n",
       ":   0.0305337473746062beta1\n",
       ":   0.967156246632972skew\n",
       ":   1.01434053541708shape\n",
       ":   8.9091738188611\n",
       "\n"
      ],
      "text/plain": [
       "           mu           ar1         omega        alpha1         beta1 \n",
       "-2.454957e-05  1.229478e-04  9.575141e-08  3.053375e-02  9.671562e-01 \n",
       "         skew         shape \n",
       " 1.014341e+00  8.909174e+00 "
      ]
     },
     "metadata": {},
     "output_type": "display_data"
    },
    {
     "data": {
      "image/png": "[encoded data removed]",
      "text/plain": [
       "plot without title"
      ]
     },
     "metadata": {},
     "output_type": "display_data"
    }
   ],
   "source": [
    "# Print the flexible GARCH parameters\n",
    "coef(flexgarchfit)\n",
    "\n",
    "# Restrict the flexible GARCH model by impose a fixed ar1 and skew parameter\n",
    "rflexgarchspec <- flexgarchspec\n",
    "setfixed(rflexgarchspec) <- list(ar1 = 0, skew = 1)\n",
    "\n",
    "# Estimate the restricted GARCH model\n",
    "rflexgarchfit <- ugarchfit(data = EURUSDret,  spec = rflexgarchspec)\n",
    "\n",
    "# Compare the volatility of the unrestricted and restriced GARCH models\n",
    "plotvol <- plot(abs(EURUSDret), col = \"grey\")\n",
    "plotvol <- addSeries(sigma(flexgarchfit), col = \"black\", lwd = 4, on=1 )\n",
    "plotvol <- addSeries(sigma(rflexgarchfit), col = \"red\", on=1)\n",
    "plotvol"
   ]
  },
  {
   "cell_type": "markdown",
   "metadata": {},
   "source": [
    "The two volatility series completely overlap. The parameter restrictions thus match with the observed return behavior."
   ]
  },
  {
   "cell_type": "markdown",
   "metadata": {},
   "source": [
    "### Parameter bounds and impact on forecasts\n",
    "\n",
    "Let's take again the flexible GARCH model specification for which the estimated coefficients are printed in the console. Now assume that you believe that the GARCH parameter α should be between 0.05 and 0.1, while the β parameter is between 0.8 and 0.95. You are asked here to re-estimate the model by imposing those bounds and see the effect on the volatility forecasts for the next ten days obtained using ugarchforecast."
   ]
  },
  {
   "cell_type": "code",
   "execution_count": 38,
   "metadata": {
    "collapsed": false
   },
   "outputs": [
    {
     "data": {
      "text/html": [
       "<dl class=dl-horizontal>\n",
       "\t<dt>mu</dt>\n",
       "\t\t<dd>-2.58512851903567e-05</dd>\n",
       "\t<dt>ar1</dt>\n",
       "\t\t<dd>0.00177666069279988</dd>\n",
       "\t<dt>omega</dt>\n",
       "\t\t<dd>1.68168545675986e-07</dd>\n",
       "\t<dt>alpha1</dt>\n",
       "\t\t<dd>0.05</dd>\n",
       "\t<dt>beta1</dt>\n",
       "\t\t<dd>0.947907773797379</dd>\n",
       "\t<dt>skew</dt>\n",
       "\t\t<dd>1.01115048833022</dd>\n",
       "\t<dt>shape</dt>\n",
       "\t\t<dd>8.4917767777421</dd>\n",
       "</dl>\n"
      ],
      "text/latex": [
       "\\begin{description*}\n",
       "\\item[mu] -2.58512851903567e-05\n",
       "\\item[ar1] 0.00177666069279988\n",
       "\\item[omega] 1.68168545675986e-07\n",
       "\\item[alpha1] 0.05\n",
       "\\item[beta1] 0.947907773797379\n",
       "\\item[skew] 1.01115048833022\n",
       "\\item[shape] 8.4917767777421\n",
       "\\end{description*}\n"
      ],
      "text/markdown": [
       "mu\n",
       ":   -2.58512851903567e-05ar1\n",
       ":   0.00177666069279988omega\n",
       ":   1.68168545675986e-07alpha1\n",
       ":   0.05beta1\n",
       ":   0.947907773797379skew\n",
       ":   1.01115048833022shape\n",
       ":   8.4917767777421\n",
       "\n"
      ],
      "text/plain": [
       "           mu           ar1         omega        alpha1         beta1 \n",
       "-2.585129e-05  1.776661e-03  1.681685e-07  5.000000e-02  9.479078e-01 \n",
       "         skew         shape \n",
       " 1.011150e+00  8.491777e+00 "
      ]
     },
     "metadata": {},
     "output_type": "display_data"
    },
    {
     "data": {
      "text/html": [
       "<table>\n",
       "<thead><tr><th></th><th scope=col>2018-09-28</th><th scope=col>2018-09-28</th></tr></thead>\n",
       "<tbody>\n",
       "\t<tr><th scope=row>T+1</th><td>0.004192988</td><td>0.004157471</td></tr>\n",
       "\t<tr><th scope=row>T+2</th><td>0.004199558</td><td>0.004173317</td></tr>\n",
       "\t<tr><th scope=row>T+3</th><td>0.004206102</td><td>0.004189069</td></tr>\n",
       "\t<tr><th scope=row>T+4</th><td>0.004212622</td><td>0.004204730</td></tr>\n",
       "\t<tr><th scope=row>T+5</th><td>0.004219116</td><td>0.004220300</td></tr>\n",
       "\t<tr><th scope=row>T+6</th><td>0.004225585</td><td>0.004235781</td></tr>\n",
       "\t<tr><th scope=row>T+7</th><td>0.004232030</td><td>0.004251172</td></tr>\n",
       "\t<tr><th scope=row>T+8</th><td>0.004238450</td><td>0.004266477</td></tr>\n",
       "\t<tr><th scope=row>T+9</th><td>0.004244845</td><td>0.004281695</td></tr>\n",
       "\t<tr><th scope=row>T+10</th><td>0.004251216</td><td>0.004296827</td></tr>\n",
       "</tbody>\n",
       "</table>\n"
      ],
      "text/latex": [
       "\\begin{tabular}{r|ll}\n",
       "  & 2018-09-28 & 2018-09-28\\\\\n",
       "\\hline\n",
       "\tT+1 & 0.004192988 & 0.004157471\\\\\n",
       "\tT+2 & 0.004199558 & 0.004173317\\\\\n",
       "\tT+3 & 0.004206102 & 0.004189069\\\\\n",
       "\tT+4 & 0.004212622 & 0.004204730\\\\\n",
       "\tT+5 & 0.004219116 & 0.004220300\\\\\n",
       "\tT+6 & 0.004225585 & 0.004235781\\\\\n",
       "\tT+7 & 0.004232030 & 0.004251172\\\\\n",
       "\tT+8 & 0.004238450 & 0.004266477\\\\\n",
       "\tT+9 & 0.004244845 & 0.004281695\\\\\n",
       "\tT+10 & 0.004251216 & 0.004296827\\\\\n",
       "\\end{tabular}\n"
      ],
      "text/markdown": [
       "\n",
       "| <!--/--> | 2018-09-28 | 2018-09-28 |\n",
       "|---|---|---|\n",
       "| T+1 | 0.004192988 | 0.004157471 |\n",
       "| T+2 | 0.004199558 | 0.004173317 |\n",
       "| T+3 | 0.004206102 | 0.004189069 |\n",
       "| T+4 | 0.004212622 | 0.004204730 |\n",
       "| T+5 | 0.004219116 | 0.004220300 |\n",
       "| T+6 | 0.004225585 | 0.004235781 |\n",
       "| T+7 | 0.004232030 | 0.004251172 |\n",
       "| T+8 | 0.004238450 | 0.004266477 |\n",
       "| T+9 | 0.004244845 | 0.004281695 |\n",
       "| T+10 | 0.004251216 | 0.004296827 |\n",
       "\n"
      ],
      "text/plain": [
       "     2018-09-28  2018-09-28 \n",
       "T+1  0.004192988 0.004157471\n",
       "T+2  0.004199558 0.004173317\n",
       "T+3  0.004206102 0.004189069\n",
       "T+4  0.004212622 0.004204730\n",
       "T+5  0.004219116 0.004220300\n",
       "T+6  0.004225585 0.004235781\n",
       "T+7  0.004232030 0.004251172\n",
       "T+8  0.004238450 0.004266477\n",
       "T+9  0.004244845 0.004281695\n",
       "T+10 0.004251216 0.004296827"
      ]
     },
     "metadata": {},
     "output_type": "display_data"
    }
   ],
   "source": [
    "# Define bflexgarchspec as the bound constrained version\n",
    "bflexgarchspec <- flexgarchspec\n",
    "setbounds(bflexgarchspec) <- list(alpha1 = c(0.05,0.2), beta1 = c(0.8,0.95))\n",
    "\n",
    "# Estimate the bound constrained model\n",
    "bflexgarchfit <- ugarchfit(data = EURUSDret, spec = bflexgarchspec)\n",
    "\n",
    "# Inspect coefficients\n",
    "coef(bflexgarchfit)\n",
    "\n",
    "# Compare forecasts for the next ten days\n",
    "cbind(sigma(ugarchforecast(flexgarchfit, n.ahead = 10)),\n",
    "      sigma(ugarchforecast(bflexgarchfit, n.ahead = 10)))"
   ]
  },
  {
   "cell_type": "markdown",
   "metadata": {},
   "source": [
    "Imposing the bound constraints changes the volatility forecasts. In Chapter 3 you will learn how to decide between two volatility forecasting approaches based on their precision."
   ]
  },
  {
   "cell_type": "markdown",
   "metadata": {},
   "source": [
    "### Variance targeting\n",
    "\n",
    "Financial return volatility clusters through time: periods of above average volatility are followed by period of below average volatility. The long run prediction is that:\n",
    "\n",
    "- when volatility is high, it will decrease and revert to its long run average.\n",
    "- when volatility is low, it will increase and revert to its long run average.\n",
    "\n",
    "In the estimation of GARCH models we can exploit this mean reversion behavior of volatility by means of volatility targeting. We then estimate the GARCH parameters in such a way that the long run volatility implied by the GARCH model equals the sample standard deviation.\n",
    "\n",
    "Let's do this for the EUR/USD returns."
   ]
  },
  {
   "cell_type": "code",
   "execution_count": 39,
   "metadata": {
    "collapsed": false
   },
   "outputs": [
    {
     "data": {
      "text/html": [
       "0.00619371018060527"
      ],
      "text/latex": [
       "0.00619371018060527"
      ],
      "text/markdown": [
       "0.00619371018060527"
      ],
      "text/plain": [
       "[1] 0.00619371"
      ]
     },
     "metadata": {},
     "output_type": "display_data"
    },
    {
     "data": {
      "text/html": [
       "TRUE"
      ],
      "text/latex": [
       "TRUE"
      ],
      "text/markdown": [
       "TRUE"
      ],
      "text/plain": [
       "[1] TRUE"
      ]
     },
     "metadata": {},
     "output_type": "display_data"
    }
   ],
   "source": [
    "# Complete the specification to do variance targeting\n",
    "garchspec <- ugarchspec(mean.model = list(armaOrder = c(0,0)),\n",
    "                        variance.model = list(model = \"sGARCH\",\n",
    "                                         variance.targeting = TRUE),\n",
    "                        distribution.model = \"std\")\n",
    "\n",
    "# Estimate the model\n",
    "garchfit <- ugarchfit(data = EURUSDret, spec = garchspec)\n",
    "\n",
    "# Print the GARCH model implied long run volatility\n",
    "sqrt(uncvariance(garchfit))\n",
    "\n",
    "# Verify that it equals the standard deviation (after rounding)\n",
    "all.equal(sqrt(uncvariance(garchfit)), sd(EURUSDret), tol = 1e-4)"
   ]
  }
 ],
 "metadata": {
  "anaconda-cloud": {},
  "kernelspec": {
   "display_name": "R",
   "language": "R",
   "name": "ir"
  },
  "language_info": {
   "codemirror_mode": "r",
   "file_extension": ".r",
   "mimetype": "text/x-r-source",
   "name": "R",
   "pygments_lexer": "r",
   "version": "3.5.0"
  }
 },
 "nbformat": 4,
 "nbformat_minor": 1
}
